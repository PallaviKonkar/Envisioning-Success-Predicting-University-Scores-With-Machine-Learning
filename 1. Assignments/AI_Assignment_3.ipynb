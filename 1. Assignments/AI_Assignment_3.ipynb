{
  "nbformat": 4,
  "nbformat_minor": 0,
  "metadata": {
    "colab": {
      "provenance": []
    },
    "kernelspec": {
      "name": "python3",
      "display_name": "Python 3"
    },
    "language_info": {
      "name": "python"
    }
  },
  "cells": [
    {
      "cell_type": "markdown",
      "source": [
        "# **Build an ANN model for Drug classification.**"
      ],
      "metadata": {
        "id": "V-p-jGPk3LhX"
      }
    },
    {
      "cell_type": "markdown",
      "source": [
        "### **Load the dataset**"
      ],
      "metadata": {
        "id": "faOfLV3z-6PE"
      }
    },
    {
      "cell_type": "code",
      "execution_count": null,
      "metadata": {
        "id": "Ba418dR_1_El"
      },
      "outputs": [],
      "source": [
        "import pandas as pd"
      ]
    },
    {
      "cell_type": "code",
      "source": [
        "data=pd.read_csv(\"drug200.csv\")"
      ],
      "metadata": {
        "id": "XqxVSTMO-HmB"
      },
      "execution_count": null,
      "outputs": []
    },
    {
      "cell_type": "code",
      "source": [
        "data.head(3)"
      ],
      "metadata": {
        "colab": {
          "base_uri": "https://localhost:8080/",
          "height": 143
        },
        "id": "Si1MlRxc-R-U",
        "outputId": "9314c15f-b85d-4c6d-bb36-ef99e919f3fc"
      },
      "execution_count": null,
      "outputs": [
        {
          "output_type": "execute_result",
          "data": {
            "text/plain": [
              "   Age Sex    BP Cholesterol  Na_to_K   Drug\n",
              "0   23   F  HIGH        HIGH   25.355  DrugY\n",
              "1   47   M   LOW        HIGH   13.093  drugC\n",
              "2   47   M   LOW        HIGH   10.114  drugC"
            ],
            "text/html": [
              "\n",
              "  <div id=\"df-9e54e1ba-8e01-44ee-a37a-e4ac4208dda6\" class=\"colab-df-container\">\n",
              "    <div>\n",
              "<style scoped>\n",
              "    .dataframe tbody tr th:only-of-type {\n",
              "        vertical-align: middle;\n",
              "    }\n",
              "\n",
              "    .dataframe tbody tr th {\n",
              "        vertical-align: top;\n",
              "    }\n",
              "\n",
              "    .dataframe thead th {\n",
              "        text-align: right;\n",
              "    }\n",
              "</style>\n",
              "<table border=\"1\" class=\"dataframe\">\n",
              "  <thead>\n",
              "    <tr style=\"text-align: right;\">\n",
              "      <th></th>\n",
              "      <th>Age</th>\n",
              "      <th>Sex</th>\n",
              "      <th>BP</th>\n",
              "      <th>Cholesterol</th>\n",
              "      <th>Na_to_K</th>\n",
              "      <th>Drug</th>\n",
              "    </tr>\n",
              "  </thead>\n",
              "  <tbody>\n",
              "    <tr>\n",
              "      <th>0</th>\n",
              "      <td>23</td>\n",
              "      <td>F</td>\n",
              "      <td>HIGH</td>\n",
              "      <td>HIGH</td>\n",
              "      <td>25.355</td>\n",
              "      <td>DrugY</td>\n",
              "    </tr>\n",
              "    <tr>\n",
              "      <th>1</th>\n",
              "      <td>47</td>\n",
              "      <td>M</td>\n",
              "      <td>LOW</td>\n",
              "      <td>HIGH</td>\n",
              "      <td>13.093</td>\n",
              "      <td>drugC</td>\n",
              "    </tr>\n",
              "    <tr>\n",
              "      <th>2</th>\n",
              "      <td>47</td>\n",
              "      <td>M</td>\n",
              "      <td>LOW</td>\n",
              "      <td>HIGH</td>\n",
              "      <td>10.114</td>\n",
              "      <td>drugC</td>\n",
              "    </tr>\n",
              "  </tbody>\n",
              "</table>\n",
              "</div>\n",
              "    <div class=\"colab-df-buttons\">\n",
              "\n",
              "  <div class=\"colab-df-container\">\n",
              "    <button class=\"colab-df-convert\" onclick=\"convertToInteractive('df-9e54e1ba-8e01-44ee-a37a-e4ac4208dda6')\"\n",
              "            title=\"Convert this dataframe to an interactive table.\"\n",
              "            style=\"display:none;\">\n",
              "\n",
              "  <svg xmlns=\"http://www.w3.org/2000/svg\" height=\"24px\" viewBox=\"0 -960 960 960\">\n",
              "    <path d=\"M120-120v-720h720v720H120Zm60-500h600v-160H180v160Zm220 220h160v-160H400v160Zm0 220h160v-160H400v160ZM180-400h160v-160H180v160Zm440 0h160v-160H620v160ZM180-180h160v-160H180v160Zm440 0h160v-160H620v160Z\"/>\n",
              "  </svg>\n",
              "    </button>\n",
              "\n",
              "  <style>\n",
              "    .colab-df-container {\n",
              "      display:flex;\n",
              "      gap: 12px;\n",
              "    }\n",
              "\n",
              "    .colab-df-convert {\n",
              "      background-color: #E8F0FE;\n",
              "      border: none;\n",
              "      border-radius: 50%;\n",
              "      cursor: pointer;\n",
              "      display: none;\n",
              "      fill: #1967D2;\n",
              "      height: 32px;\n",
              "      padding: 0 0 0 0;\n",
              "      width: 32px;\n",
              "    }\n",
              "\n",
              "    .colab-df-convert:hover {\n",
              "      background-color: #E2EBFA;\n",
              "      box-shadow: 0px 1px 2px rgba(60, 64, 67, 0.3), 0px 1px 3px 1px rgba(60, 64, 67, 0.15);\n",
              "      fill: #174EA6;\n",
              "    }\n",
              "\n",
              "    .colab-df-buttons div {\n",
              "      margin-bottom: 4px;\n",
              "    }\n",
              "\n",
              "    [theme=dark] .colab-df-convert {\n",
              "      background-color: #3B4455;\n",
              "      fill: #D2E3FC;\n",
              "    }\n",
              "\n",
              "    [theme=dark] .colab-df-convert:hover {\n",
              "      background-color: #434B5C;\n",
              "      box-shadow: 0px 1px 3px 1px rgba(0, 0, 0, 0.15);\n",
              "      filter: drop-shadow(0px 1px 2px rgba(0, 0, 0, 0.3));\n",
              "      fill: #FFFFFF;\n",
              "    }\n",
              "  </style>\n",
              "\n",
              "    <script>\n",
              "      const buttonEl =\n",
              "        document.querySelector('#df-9e54e1ba-8e01-44ee-a37a-e4ac4208dda6 button.colab-df-convert');\n",
              "      buttonEl.style.display =\n",
              "        google.colab.kernel.accessAllowed ? 'block' : 'none';\n",
              "\n",
              "      async function convertToInteractive(key) {\n",
              "        const element = document.querySelector('#df-9e54e1ba-8e01-44ee-a37a-e4ac4208dda6');\n",
              "        const dataTable =\n",
              "          await google.colab.kernel.invokeFunction('convertToInteractive',\n",
              "                                                    [key], {});\n",
              "        if (!dataTable) return;\n",
              "\n",
              "        const docLinkHtml = 'Like what you see? Visit the ' +\n",
              "          '<a target=\"_blank\" href=https://colab.research.google.com/notebooks/data_table.ipynb>data table notebook</a>'\n",
              "          + ' to learn more about interactive tables.';\n",
              "        element.innerHTML = '';\n",
              "        dataTable['output_type'] = 'display_data';\n",
              "        await google.colab.output.renderOutput(dataTable, element);\n",
              "        const docLink = document.createElement('div');\n",
              "        docLink.innerHTML = docLinkHtml;\n",
              "        element.appendChild(docLink);\n",
              "      }\n",
              "    </script>\n",
              "  </div>\n",
              "\n",
              "\n",
              "<div id=\"df-c74d9eda-9210-4e4b-ada0-d0e7a4cb5c93\">\n",
              "  <button class=\"colab-df-quickchart\" onclick=\"quickchart('df-c74d9eda-9210-4e4b-ada0-d0e7a4cb5c93')\"\n",
              "            title=\"Suggest charts\"\n",
              "            style=\"display:none;\">\n",
              "\n",
              "<svg xmlns=\"http://www.w3.org/2000/svg\" height=\"24px\"viewBox=\"0 0 24 24\"\n",
              "     width=\"24px\">\n",
              "    <g>\n",
              "        <path d=\"M19 3H5c-1.1 0-2 .9-2 2v14c0 1.1.9 2 2 2h14c1.1 0 2-.9 2-2V5c0-1.1-.9-2-2-2zM9 17H7v-7h2v7zm4 0h-2V7h2v10zm4 0h-2v-4h2v4z\"/>\n",
              "    </g>\n",
              "</svg>\n",
              "  </button>\n",
              "\n",
              "<style>\n",
              "  .colab-df-quickchart {\n",
              "      --bg-color: #E8F0FE;\n",
              "      --fill-color: #1967D2;\n",
              "      --hover-bg-color: #E2EBFA;\n",
              "      --hover-fill-color: #174EA6;\n",
              "      --disabled-fill-color: #AAA;\n",
              "      --disabled-bg-color: #DDD;\n",
              "  }\n",
              "\n",
              "  [theme=dark] .colab-df-quickchart {\n",
              "      --bg-color: #3B4455;\n",
              "      --fill-color: #D2E3FC;\n",
              "      --hover-bg-color: #434B5C;\n",
              "      --hover-fill-color: #FFFFFF;\n",
              "      --disabled-bg-color: #3B4455;\n",
              "      --disabled-fill-color: #666;\n",
              "  }\n",
              "\n",
              "  .colab-df-quickchart {\n",
              "    background-color: var(--bg-color);\n",
              "    border: none;\n",
              "    border-radius: 50%;\n",
              "    cursor: pointer;\n",
              "    display: none;\n",
              "    fill: var(--fill-color);\n",
              "    height: 32px;\n",
              "    padding: 0;\n",
              "    width: 32px;\n",
              "  }\n",
              "\n",
              "  .colab-df-quickchart:hover {\n",
              "    background-color: var(--hover-bg-color);\n",
              "    box-shadow: 0 1px 2px rgba(60, 64, 67, 0.3), 0 1px 3px 1px rgba(60, 64, 67, 0.15);\n",
              "    fill: var(--button-hover-fill-color);\n",
              "  }\n",
              "\n",
              "  .colab-df-quickchart-complete:disabled,\n",
              "  .colab-df-quickchart-complete:disabled:hover {\n",
              "    background-color: var(--disabled-bg-color);\n",
              "    fill: var(--disabled-fill-color);\n",
              "    box-shadow: none;\n",
              "  }\n",
              "\n",
              "  .colab-df-spinner {\n",
              "    border: 2px solid var(--fill-color);\n",
              "    border-color: transparent;\n",
              "    border-bottom-color: var(--fill-color);\n",
              "    animation:\n",
              "      spin 1s steps(1) infinite;\n",
              "  }\n",
              "\n",
              "  @keyframes spin {\n",
              "    0% {\n",
              "      border-color: transparent;\n",
              "      border-bottom-color: var(--fill-color);\n",
              "      border-left-color: var(--fill-color);\n",
              "    }\n",
              "    20% {\n",
              "      border-color: transparent;\n",
              "      border-left-color: var(--fill-color);\n",
              "      border-top-color: var(--fill-color);\n",
              "    }\n",
              "    30% {\n",
              "      border-color: transparent;\n",
              "      border-left-color: var(--fill-color);\n",
              "      border-top-color: var(--fill-color);\n",
              "      border-right-color: var(--fill-color);\n",
              "    }\n",
              "    40% {\n",
              "      border-color: transparent;\n",
              "      border-right-color: var(--fill-color);\n",
              "      border-top-color: var(--fill-color);\n",
              "    }\n",
              "    60% {\n",
              "      border-color: transparent;\n",
              "      border-right-color: var(--fill-color);\n",
              "    }\n",
              "    80% {\n",
              "      border-color: transparent;\n",
              "      border-right-color: var(--fill-color);\n",
              "      border-bottom-color: var(--fill-color);\n",
              "    }\n",
              "    90% {\n",
              "      border-color: transparent;\n",
              "      border-bottom-color: var(--fill-color);\n",
              "    }\n",
              "  }\n",
              "</style>\n",
              "\n",
              "  <script>\n",
              "    async function quickchart(key) {\n",
              "      const quickchartButtonEl =\n",
              "        document.querySelector('#' + key + ' button');\n",
              "      quickchartButtonEl.disabled = true;  // To prevent multiple clicks.\n",
              "      quickchartButtonEl.classList.add('colab-df-spinner');\n",
              "      try {\n",
              "        const charts = await google.colab.kernel.invokeFunction(\n",
              "            'suggestCharts', [key], {});\n",
              "      } catch (error) {\n",
              "        console.error('Error during call to suggestCharts:', error);\n",
              "      }\n",
              "      quickchartButtonEl.classList.remove('colab-df-spinner');\n",
              "      quickchartButtonEl.classList.add('colab-df-quickchart-complete');\n",
              "    }\n",
              "    (() => {\n",
              "      let quickchartButtonEl =\n",
              "        document.querySelector('#df-c74d9eda-9210-4e4b-ada0-d0e7a4cb5c93 button');\n",
              "      quickchartButtonEl.style.display =\n",
              "        google.colab.kernel.accessAllowed ? 'block' : 'none';\n",
              "    })();\n",
              "  </script>\n",
              "</div>\n",
              "\n",
              "    </div>\n",
              "  </div>\n"
            ],
            "application/vnd.google.colaboratory.intrinsic+json": {
              "type": "dataframe",
              "variable_name": "data",
              "summary": "{\n  \"name\": \"data\",\n  \"rows\": 200,\n  \"fields\": [\n    {\n      \"column\": \"Age\",\n      \"properties\": {\n        \"dtype\": \"number\",\n        \"std\": 16,\n        \"min\": 15,\n        \"max\": 74,\n        \"num_unique_values\": 57,\n        \"samples\": [\n          23,\n          49,\n          37\n        ],\n        \"semantic_type\": \"\",\n        \"description\": \"\"\n      }\n    },\n    {\n      \"column\": \"Sex\",\n      \"properties\": {\n        \"dtype\": \"category\",\n        \"num_unique_values\": 2,\n        \"samples\": [\n          \"M\",\n          \"F\"\n        ],\n        \"semantic_type\": \"\",\n        \"description\": \"\"\n      }\n    },\n    {\n      \"column\": \"BP\",\n      \"properties\": {\n        \"dtype\": \"category\",\n        \"num_unique_values\": 3,\n        \"samples\": [\n          \"HIGH\",\n          \"LOW\"\n        ],\n        \"semantic_type\": \"\",\n        \"description\": \"\"\n      }\n    },\n    {\n      \"column\": \"Cholesterol\",\n      \"properties\": {\n        \"dtype\": \"category\",\n        \"num_unique_values\": 2,\n        \"samples\": [\n          \"NORMAL\",\n          \"HIGH\"\n        ],\n        \"semantic_type\": \"\",\n        \"description\": \"\"\n      }\n    },\n    {\n      \"column\": \"Na_to_K\",\n      \"properties\": {\n        \"dtype\": \"number\",\n        \"std\": 7.223955528459516,\n        \"min\": 6.269,\n        \"max\": 38.247,\n        \"num_unique_values\": 198,\n        \"samples\": [\n          27.05,\n          9.281\n        ],\n        \"semantic_type\": \"\",\n        \"description\": \"\"\n      }\n    },\n    {\n      \"column\": \"Drug\",\n      \"properties\": {\n        \"dtype\": \"category\",\n        \"num_unique_values\": 5,\n        \"samples\": [\n          \"drugC\",\n          \"drugB\"\n        ],\n        \"semantic_type\": \"\",\n        \"description\": \"\"\n      }\n    }\n  ]\n}"
            }
          },
          "metadata": {},
          "execution_count": 3
        }
      ]
    },
    {
      "cell_type": "code",
      "source": [
        "data.info()"
      ],
      "metadata": {
        "colab": {
          "base_uri": "https://localhost:8080/"
        },
        "id": "Cj6dBg7U-Wnu",
        "outputId": "3dc3b59a-b51c-4882-cf26-7e4e2e527848"
      },
      "execution_count": null,
      "outputs": [
        {
          "output_type": "stream",
          "name": "stdout",
          "text": [
            "<class 'pandas.core.frame.DataFrame'>\n",
            "RangeIndex: 200 entries, 0 to 199\n",
            "Data columns (total 6 columns):\n",
            " #   Column       Non-Null Count  Dtype  \n",
            "---  ------       --------------  -----  \n",
            " 0   Age          200 non-null    int64  \n",
            " 1   Sex          200 non-null    object \n",
            " 2   BP           200 non-null    object \n",
            " 3   Cholesterol  200 non-null    object \n",
            " 4   Na_to_K      200 non-null    float64\n",
            " 5   Drug         200 non-null    object \n",
            "dtypes: float64(1), int64(1), object(4)\n",
            "memory usage: 9.5+ KB\n"
          ]
        }
      ]
    },
    {
      "cell_type": "markdown",
      "source": [
        "### **Data Preprocessing**"
      ],
      "metadata": {
        "id": "prcJhcyv-tdU"
      }
    },
    {
      "cell_type": "code",
      "source": [
        "data.isnull().sum()"
      ],
      "metadata": {
        "colab": {
          "base_uri": "https://localhost:8080/"
        },
        "id": "DJh5LCfj-WkX",
        "outputId": "0e1d955b-990c-458f-bb59-5865c7da81f8"
      },
      "execution_count": null,
      "outputs": [
        {
          "output_type": "execute_result",
          "data": {
            "text/plain": [
              "Age            0\n",
              "Sex            0\n",
              "BP             0\n",
              "Cholesterol    0\n",
              "Na_to_K        0\n",
              "Drug           0\n",
              "dtype: int64"
            ]
          },
          "metadata": {},
          "execution_count": 5
        }
      ]
    },
    {
      "cell_type": "code",
      "source": [
        "from sklearn.preprocessing import LabelEncoder"
      ],
      "metadata": {
        "id": "n8nIgLNM-Whs"
      },
      "execution_count": null,
      "outputs": []
    },
    {
      "cell_type": "code",
      "source": [
        "le = LabelEncoder()\n",
        "data.Sex= le.fit_transform(data.Sex)\n",
        "data.BP = le.fit_transform(data.BP)\n",
        "data.Cholesterol = le.fit_transform(data.Cholesterol)\n",
        "data.Drug = le.fit_transform(data.Drug)"
      ],
      "metadata": {
        "id": "-BM-_45O-Wfb"
      },
      "execution_count": null,
      "outputs": []
    },
    {
      "cell_type": "code",
      "source": [
        "x = data.drop(\"Drug\",axis=1).values\n",
        "y= data[\"Drug\"].values"
      ],
      "metadata": {
        "id": "S4t-Xh7sUPxr"
      },
      "execution_count": null,
      "outputs": []
    },
    {
      "cell_type": "code",
      "source": [
        "from sklearn.preprocessing import StandardScaler"
      ],
      "metadata": {
        "id": "H_quMpewUPpF"
      },
      "execution_count": null,
      "outputs": []
    },
    {
      "cell_type": "code",
      "source": [
        "scaler = StandardScaler()\n",
        "x_scaled = scaler.fit_transform(x)"
      ],
      "metadata": {
        "id": "e3zNpdUXVDCL"
      },
      "execution_count": null,
      "outputs": []
    },
    {
      "cell_type": "code",
      "source": [
        "from sklearn.model_selection import train_test_split\n",
        "x_train,x_test,y_train,y_test=train_test_split(x_scaled,y, test_size=0.3, random_state=0)"
      ],
      "metadata": {
        "id": "fMMOW3TbVC74"
      },
      "execution_count": null,
      "outputs": []
    },
    {
      "cell_type": "code",
      "source": [
        "from tensorflow import keras"
      ],
      "metadata": {
        "id": "-8sm1TgCV5CK"
      },
      "execution_count": null,
      "outputs": []
    },
    {
      "cell_type": "code",
      "source": [
        "Y_train = keras.utils.to_categorical(y_train)\n",
        "Y_test = keras.utils.to_categorical(y_test)"
      ],
      "metadata": {
        "id": "GtBkBoc-V49d"
      },
      "execution_count": null,
      "outputs": []
    },
    {
      "cell_type": "code",
      "source": [
        "from tensorflow.keras.models import Sequential\n",
        "from tensorflow.keras.layers import Dense"
      ],
      "metadata": {
        "id": "PVQBpzMXXeEZ"
      },
      "execution_count": null,
      "outputs": []
    },
    {
      "cell_type": "code",
      "source": [
        "model=Sequential()\n",
        "model.add(Dense(12, input_dim=5 ,activation='relu'))\n",
        "model.add(Dense(24, activation='relu'))\n",
        "model.add(Dense(36, activation='relu'))\n",
        "model.add(Dense(5, activation='softmax'))"
      ],
      "metadata": {
        "id": "nm4y83w2Xk2Y"
      },
      "execution_count": null,
      "outputs": []
    },
    {
      "cell_type": "code",
      "source": [
        "model.summary()"
      ],
      "metadata": {
        "colab": {
          "base_uri": "https://localhost:8080/"
        },
        "id": "6549nW2HYMKr",
        "outputId": "a0447eb3-65ee-4470-88de-f554204ccb02"
      },
      "execution_count": null,
      "outputs": [
        {
          "output_type": "stream",
          "name": "stdout",
          "text": [
            "Model: \"sequential_2\"\n",
            "_________________________________________________________________\n",
            " Layer (type)                Output Shape              Param #   \n",
            "=================================================================\n",
            " dense_8 (Dense)             (None, 12)                72        \n",
            "                                                                 \n",
            " dense_9 (Dense)             (None, 24)                312       \n",
            "                                                                 \n",
            " dense_10 (Dense)            (None, 36)                900       \n",
            "                                                                 \n",
            " dense_11 (Dense)            (None, 5)                 185       \n",
            "                                                                 \n",
            "=================================================================\n",
            "Total params: 1469 (5.74 KB)\n",
            "Trainable params: 1469 (5.74 KB)\n",
            "Non-trainable params: 0 (0.00 Byte)\n",
            "_________________________________________________________________\n"
          ]
        }
      ]
    },
    {
      "cell_type": "code",
      "source": [
        "model.compile(loss = \"categorical_crossentropy\",optimizer = 'adam', metrics = [\"accuracy\"])"
      ],
      "metadata": {
        "id": "k3lXAhRzYnGF"
      },
      "execution_count": null,
      "outputs": []
    },
    {
      "cell_type": "code",
      "source": [
        "#Train the model\n",
        "model.fit(x_train,Y_train, batch_size=10, epochs=20)"
      ],
      "metadata": {
        "colab": {
          "base_uri": "https://localhost:8080/"
        },
        "id": "3aW6slFNZEDp",
        "outputId": "b99d768c-ca99-43c7-e709-093f9a66a669"
      },
      "execution_count": null,
      "outputs": [
        {
          "output_type": "stream",
          "name": "stdout",
          "text": [
            "Epoch 1/20\n",
            "14/14 [==============================] - 1s 3ms/step - loss: 1.5802 - accuracy: 0.1786 \n",
            "Epoch 2/20\n",
            "14/14 [==============================] - 0s 2ms/step - loss: 1.4964 - accuracy: 0.4857\n",
            "Epoch 3/20\n",
            "14/14 [==============================] - 0s 2ms/step - loss: 1.4182 - accuracy: 0.5929\n",
            "Epoch 4/20\n",
            "14/14 [==============================] - 0s 2ms/step - loss: 1.3399 - accuracy: 0.5857\n",
            "Epoch 5/20\n",
            "14/14 [==============================] - 0s 3ms/step - loss: 1.2567 - accuracy: 0.5786\n",
            "Epoch 6/20\n",
            "14/14 [==============================] - 0s 3ms/step - loss: 1.1702 - accuracy: 0.5786\n",
            "Epoch 7/20\n",
            "14/14 [==============================] - 0s 3ms/step - loss: 1.0825 - accuracy: 0.6071\n",
            "Epoch 8/20\n",
            "14/14 [==============================] - 0s 2ms/step - loss: 0.9955 - accuracy: 0.6714\n",
            "Epoch 9/20\n",
            "14/14 [==============================] - 0s 3ms/step - loss: 0.9071 - accuracy: 0.7143\n",
            "Epoch 10/20\n",
            "14/14 [==============================] - 0s 2ms/step - loss: 0.8207 - accuracy: 0.7214\n",
            "Epoch 11/20\n",
            "14/14 [==============================] - 0s 3ms/step - loss: 0.7386 - accuracy: 0.7643\n",
            "Epoch 12/20\n",
            "14/14 [==============================] - 0s 3ms/step - loss: 0.6619 - accuracy: 0.8000\n",
            "Epoch 13/20\n",
            "14/14 [==============================] - 0s 2ms/step - loss: 0.5856 - accuracy: 0.8214\n",
            "Epoch 14/20\n",
            "14/14 [==============================] - 0s 3ms/step - loss: 0.5214 - accuracy: 0.8357\n",
            "Epoch 15/20\n",
            "14/14 [==============================] - 0s 4ms/step - loss: 0.4652 - accuracy: 0.8786\n",
            "Epoch 16/20\n",
            "14/14 [==============================] - 0s 2ms/step - loss: 0.4118 - accuracy: 0.8929\n",
            "Epoch 17/20\n",
            "14/14 [==============================] - 0s 2ms/step - loss: 0.3721 - accuracy: 0.9000\n",
            "Epoch 18/20\n",
            "14/14 [==============================] - 0s 2ms/step - loss: 0.3327 - accuracy: 0.9214\n",
            "Epoch 19/20\n",
            "14/14 [==============================] - 0s 3ms/step - loss: 0.3004 - accuracy: 0.9214\n",
            "Epoch 20/20\n",
            "14/14 [==============================] - 0s 3ms/step - loss: 0.2716 - accuracy: 0.9357\n"
          ]
        },
        {
          "output_type": "execute_result",
          "data": {
            "text/plain": [
              "<keras.src.callbacks.History at 0x78f9c4021540>"
            ]
          },
          "metadata": {},
          "execution_count": 21
        }
      ]
    },
    {
      "cell_type": "code",
      "source": [
        "loss, accuracy = model.evaluate(x_test, Y_test)\n",
        "print(\"Accuracy is:\", accuracy*100)"
      ],
      "metadata": {
        "colab": {
          "base_uri": "https://localhost:8080/"
        },
        "id": "b9xqwQaxZEAE",
        "outputId": "556d78b7-7afb-4985-e80d-c0ee218ab262"
      },
      "execution_count": null,
      "outputs": [
        {
          "output_type": "stream",
          "name": "stdout",
          "text": [
            "2/2 [==============================] - 0s 10ms/step - loss: 0.2653 - accuracy: 0.9333\n",
            "Accuracy is: 93.33333373069763\n"
          ]
        }
      ]
    },
    {
      "cell_type": "code",
      "source": [
        "y_pred = model.predict(x_test)\n",
        "y_pred"
      ],
      "metadata": {
        "colab": {
          "base_uri": "https://localhost:8080/"
        },
        "id": "0ycEcv6bZ6dH",
        "outputId": "8c169ff1-e0ee-42ea-f7e7-a4b8014f2709"
      },
      "execution_count": null,
      "outputs": [
        {
          "output_type": "stream",
          "name": "stdout",
          "text": [
            "2/2 [==============================] - 0s 7ms/step\n"
          ]
        },
        {
          "output_type": "execute_result",
          "data": {
            "text/plain": [
              "array([[1.11547783e-02, 2.68667877e-01, 6.24854080e-02, 5.44424057e-01,\n",
              "        1.13267966e-01],\n",
              "       [2.00982451e-01, 1.64587836e-04, 4.54284076e-04, 3.41333933e-02,\n",
              "        7.64265299e-01],\n",
              "       [9.87202168e-01, 4.57107526e-04, 5.48742013e-04, 2.82519497e-03,\n",
              "        8.96683894e-03],\n",
              "       [9.99930322e-01, 8.80834796e-06, 6.39092320e-07, 1.29905748e-05,\n",
              "        4.71919375e-05],\n",
              "       [8.45548868e-01, 1.15741685e-04, 1.25409686e-04, 8.03770218e-03,\n",
              "        1.46172404e-01],\n",
              "       [6.73587501e-01, 4.89486242e-03, 1.71363365e-03, 2.31374372e-02,\n",
              "        2.96666592e-01],\n",
              "       [9.87609196e-03, 3.75641452e-04, 1.35387573e-03, 9.48481858e-02,\n",
              "        8.93546164e-01],\n",
              "       [2.01995865e-01, 2.98835873e-03, 1.39031140e-02, 3.56390551e-02,\n",
              "        7.45473444e-01],\n",
              "       [8.24416459e-01, 1.24255791e-02, 1.52383512e-02, 5.95043376e-02,\n",
              "        8.84151980e-02],\n",
              "       [1.01387789e-02, 8.91462783e-04, 2.83252858e-02, 3.28219682e-02,\n",
              "        9.27822411e-01],\n",
              "       [1.41099636e-02, 9.32082176e-01, 1.80827435e-02, 3.20107378e-02,\n",
              "        3.71435424e-03],\n",
              "       [9.99488413e-01, 8.87835631e-05, 3.41836198e-06, 7.64343131e-05,\n",
              "        3.42842744e-04],\n",
              "       [9.98060405e-01, 6.09525712e-04, 2.44403345e-05, 3.23551387e-04,\n",
              "        9.82136698e-04],\n",
              "       [5.57975948e-01, 1.08581008e-02, 1.42897926e-02, 5.56910969e-02,\n",
              "        3.61185044e-01],\n",
              "       [1.98534250e-01, 2.36655608e-01, 4.70083624e-01, 8.84647891e-02,\n",
              "        6.26174966e-03],\n",
              "       [9.18236673e-02, 1.12831607e-01, 1.17523916e-01, 4.71214443e-01,\n",
              "        2.06606358e-01],\n",
              "       [9.98592377e-01, 2.94693618e-05, 1.55108792e-05, 1.53035362e-04,\n",
              "        1.20949803e-03],\n",
              "       [9.43376541e-01, 2.25165750e-05, 2.74911017e-05, 1.50674523e-03,\n",
              "        5.50667457e-02],\n",
              "       [1.32193223e-01, 1.84144229e-02, 4.01429608e-02, 1.08915240e-01,\n",
              "        7.00334191e-01],\n",
              "       [8.96537304e-01, 7.39648417e-02, 5.83895529e-03, 1.46353878e-02,\n",
              "        9.02347825e-03],\n",
              "       [6.88526154e-01, 2.58180946e-01, 1.59345102e-02, 2.35687774e-02,\n",
              "        1.37897423e-02],\n",
              "       [3.26797031e-02, 1.41261960e-03, 1.11818630e-02, 1.03830136e-01,\n",
              "        8.50895643e-01],\n",
              "       [2.94964039e-03, 3.53226751e-05, 6.51904754e-03, 6.57347031e-03,\n",
              "        9.83922601e-01],\n",
              "       [4.73557353e-01, 2.40723207e-03, 5.21633169e-03, 2.28850767e-02,\n",
              "        4.95933980e-01],\n",
              "       [9.95680571e-01, 6.40591225e-06, 2.69218572e-06, 1.38568241e-04,\n",
              "        4.17170208e-03],\n",
              "       [8.12085927e-01, 8.69191063e-05, 9.10268718e-05, 6.96792034e-03,\n",
              "        1.80768073e-01],\n",
              "       [3.87137741e-01, 2.13902182e-04, 9.21363302e-04, 2.12061163e-02,\n",
              "        5.90520918e-01],\n",
              "       [9.83816326e-01, 4.02612068e-06, 4.44368425e-06, 2.63532595e-04,\n",
              "        1.59115642e-02],\n",
              "       [9.87917781e-01, 1.51387121e-05, 9.59367662e-06, 6.94747956e-04,\n",
              "        1.13626793e-02],\n",
              "       [5.91100045e-02, 1.07439424e-04, 2.55854079e-03, 8.84753000e-03,\n",
              "        9.29376423e-01],\n",
              "       [3.69308703e-02, 6.58055581e-03, 1.48204342e-01, 6.46093115e-02,\n",
              "        7.43674815e-01],\n",
              "       [2.04385817e-01, 1.20959446e-01, 2.03086864e-02, 4.20775980e-01,\n",
              "        2.33570173e-01],\n",
              "       [1.13763763e-02, 3.96309406e-01, 4.31293964e-01, 1.24532402e-01,\n",
              "        3.64879221e-02],\n",
              "       [2.53331219e-03, 3.37940655e-05, 3.52834258e-03, 8.36917479e-03,\n",
              "        9.85535264e-01],\n",
              "       [9.97240484e-01, 2.80350196e-05, 1.97892350e-05, 3.19229235e-04,\n",
              "        2.39245035e-03],\n",
              "       [9.63005960e-01, 4.53348272e-03, 1.20339934e-02, 8.53060000e-03,\n",
              "        1.18959593e-02],\n",
              "       [6.30332809e-03, 5.40140376e-04, 3.80425085e-03, 1.39882639e-01,\n",
              "        8.49469602e-01],\n",
              "       [5.63650191e-01, 3.38063040e-03, 1.06487051e-02, 7.42366686e-02,\n",
              "        3.48083884e-01],\n",
              "       [5.62843792e-02, 7.08781779e-01, 1.41232103e-01, 6.99971616e-02,\n",
              "        2.37044580e-02],\n",
              "       [1.02801159e-01, 7.41080672e-04, 1.12828752e-03, 5.47621287e-02,\n",
              "        8.40567350e-01],\n",
              "       [8.68745923e-01, 9.95849222e-02, 9.42928437e-03, 1.81263629e-02,\n",
              "        4.11355076e-03],\n",
              "       [2.47475114e-02, 9.15579438e-01, 2.55499315e-02, 3.36052068e-02,\n",
              "        5.17934968e-04],\n",
              "       [9.99931395e-01, 6.59558918e-06, 2.66809343e-06, 1.84825512e-05,\n",
              "        4.09129498e-05],\n",
              "       [1.78491622e-02, 6.21245068e-04, 3.10047437e-02, 2.10717414e-02,\n",
              "        9.29453135e-01],\n",
              "       [9.59046543e-01, 1.88299397e-04, 1.68012702e-04, 2.11792393e-03,\n",
              "        3.84792164e-02],\n",
              "       [1.55025758e-02, 1.21411709e-02, 1.09349981e-01, 1.22152776e-01,\n",
              "        7.40853548e-01],\n",
              "       [8.08651686e-01, 7.55871530e-04, 1.20650581e-03, 1.68539733e-02,\n",
              "        1.72531962e-01],\n",
              "       [9.24043238e-01, 1.18457119e-03, 7.94758031e-04, 7.80568039e-03,\n",
              "        6.61717355e-02],\n",
              "       [3.29758935e-02, 8.28324199e-01, 7.37755373e-02, 5.41033037e-02,\n",
              "        1.08210463e-02],\n",
              "       [3.37673217e-01, 3.24500315e-02, 4.00846124e-01, 7.28997365e-02,\n",
              "        1.56130850e-01],\n",
              "       [9.44368958e-01, 1.42709232e-05, 1.03037919e-05, 1.50987599e-03,\n",
              "        5.40965684e-02],\n",
              "       [5.50235137e-02, 2.57468969e-01, 4.38519418e-01, 1.20948777e-01,\n",
              "        1.28039211e-01],\n",
              "       [9.99989927e-01, 5.08071423e-07, 1.63744112e-08, 1.03599712e-06,\n",
              "        8.41274414e-06],\n",
              "       [9.98226047e-01, 2.45784846e-04, 1.89387007e-04, 5.43874456e-04,\n",
              "        7.94873224e-04],\n",
              "       [1.92746483e-02, 2.91452080e-01, 5.35129234e-02, 5.09095132e-01,\n",
              "        1.26665190e-01],\n",
              "       [9.99819756e-01, 4.06322442e-07, 7.31281702e-08, 8.83762186e-06,\n",
              "        1.70916654e-04],\n",
              "       [3.57040018e-02, 1.22166612e-05, 1.17773045e-04, 4.55247471e-03,\n",
              "        9.59613562e-01],\n",
              "       [2.68294886e-02, 2.42968003e-04, 1.24163216e-03, 6.18313923e-02,\n",
              "        9.09854591e-01],\n",
              "       [8.62809837e-01, 4.40723816e-05, 8.90373194e-05, 3.37191997e-03,\n",
              "        1.33685201e-01],\n",
              "       [2.43522041e-02, 1.23965010e-01, 7.27302670e-01, 8.16114098e-02,\n",
              "        4.27686796e-02]], dtype=float32)"
            ]
          },
          "metadata": {},
          "execution_count": 23
        }
      ]
    },
    {
      "cell_type": "code",
      "source": [
        "import numpy as np"
      ],
      "metadata": {
        "id": "yJ3ECyjabCuz"
      },
      "execution_count": null,
      "outputs": []
    },
    {
      "cell_type": "code",
      "source": [
        "num_sample = 5\n",
        "#generating random data of the same shapes as input features\n",
        "random_input = np.random.rand(num_sample, x_train.shape[1])\n",
        "#scaling the random input data\n",
        "random_input_scaled= scaler.transform(random_input)\n",
        "#predicting using the trained model\n",
        "prediction = model.predict(random_input_scaled)\n",
        "#decode one-hot encoded predictions to get the predicted drug\n",
        "predicted_drug = [np.argmax(pred) for pred in prediction]\n",
        "#mapping predicted drug index to actual drug name\n",
        "drug_mapping = {0:\"DrugA\",1:\"DrugB\", 2:\"DrugC\", 3:\"DrugX\", 4:\"DrugY\"}\n",
        "predicted_drugs_names = [drug_mapping[pred] for pred in predicted_drug]\n",
        "#displaying the random input and predicted drugs\n",
        "print(\"Random Input data:\")\n",
        "print(random_input)\n",
        "print(\"\\nPredicted Drugs:\")\n",
        "print(predicted_drugs_names)"
      ],
      "metadata": {
        "colab": {
          "base_uri": "https://localhost:8080/"
        },
        "id": "d7e9AR5Ma5xk",
        "outputId": "fc4e0d4f-0e9a-462d-c6d0-fc1bf09ae026"
      },
      "execution_count": null,
      "outputs": [
        {
          "output_type": "stream",
          "name": "stdout",
          "text": [
            "1/1 [==============================] - 0s 24ms/step\n",
            "Random Input data:\n",
            "[[0.28024748 0.14228604 0.44252898 0.63785364 0.54953416]\n",
            " [0.56451333 0.8372912  0.38280439 0.9589858  0.50787152]\n",
            " [0.74702089 0.40041127 0.30203093 0.93130604 0.98739654]\n",
            " [0.24557271 0.89221998 0.69483615 0.73804033 0.42076802]\n",
            " [0.59580352 0.37690642 0.62392174 0.49511191 0.03279702]]\n",
            "\n",
            "Predicted Drugs:\n",
            "['DrugB', 'DrugB', 'DrugB', 'DrugB', 'DrugB']\n"
          ]
        }
      ]
    }
  ]
}